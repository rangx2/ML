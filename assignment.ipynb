{
 "cells": [
  {
   "cell_type": "markdown",
   "id": "a7a690cc-c9b2-4ac9-9291-2ed910252f0a",
   "metadata": {},
   "source": [
    "# 기계학습및실습 2024 2학기 중간과제\n",
    "## 타이타닉 데이터셋 분석\n",
    "##### 인공지능융합학부 김하랑(2022101473)"
   ]
  },
  {
   "cell_type": "code",
   "execution_count": null,
   "id": "3b859d49-8b90-44a3-99ac-e0bf46c485b2",
   "metadata": {},
   "outputs": [],
   "source": []
  }
 ],
 "metadata": {
  "kernelspec": {
   "display_name": "Python 3 (ipykernel)",
   "language": "python",
   "name": "python3"
  },
  "language_info": {
   "codemirror_mode": {
    "name": "ipython",
    "version": 3
   },
   "file_extension": ".py",
   "mimetype": "text/x-python",
   "name": "python",
   "nbconvert_exporter": "python",
   "pygments_lexer": "ipython3",
   "version": "3.11.7"
  }
 },
 "nbformat": 4,
 "nbformat_minor": 5
}
